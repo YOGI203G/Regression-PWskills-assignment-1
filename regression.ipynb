{
 "cells": [
  {
   "cell_type": "markdown",
   "id": "801a7749-fe22-454c-b769-2501a08ff8c2",
   "metadata": {},
   "source": [
    "## Q1. Explain the difference between simple linear regression and multiple linear regression. Provide an example of each."
   ]
  },
  {
   "cell_type": "markdown",
   "id": "7b550e13-fdc5-4670-8003-dfb6e1e99885",
   "metadata": {},
   "source": [
    "Simple linear regression is a statistical method that examines the relationship between two continuous variables. \n",
    "         It involves one independent variable and one dependent variable, and aims to find a linear relationship between them. \n",
    "         An example of simple linear regression is analyzing the relationship between a person's height and weight.\n",
    "         Multiple linear regression, involves examining the relationship between multiple independent variables and one dependent variable. \n",
    "         It aims to find a linear relationship between the independent variables and the dependent variable. \n",
    "         An example of multiple linear regression is analyzing the relationship between a person's salary and their level of"
   ]
  },
  {
   "cell_type": "markdown",
   "id": "b890e790-376c-492a-911d-e71a8f7d941d",
   "metadata": {},
   "source": [
    "## Q2. Discuss the assumptions of linear regression. How can you check whether these assumptions hold in a given dataset?"
   ]
  },
  {
   "cell_type": "markdown",
   "id": "fc9aac61-c6b5-4ec7-984f-72ae8f464cbe",
   "metadata": {},
   "source": [
    "Linear regression assumes that there is a linear relationship between the independent and dependent variables, the residuals are normally distributed, \n",
    "         the variance of the residuals is constant across the range of the independent variable, and there is no multicollinearity among independent variables. \n",
    "         These assumptions can be checked by analyzing residual plots, Q-Q plots, and correlation matrices."
   ]
  },
  {
   "cell_type": "markdown",
   "id": "8cb3da05-9868-412f-8ac4-33ade050a329",
   "metadata": {},
   "source": [
    "## Q3. How do you interpret the slope and intercept in a linear regression model? Provide an example using a real-world scenario."
   ]
  },
  {
   "cell_type": "markdown",
   "id": "8313b37b-ed86-497e-8f73-3e4de3148228",
   "metadata": {},
   "source": [
    "In a linear regression model, the slope represents the rate of change of the dependent variable with respect to the independent variable, \n",
    "         while the intercept represents the value of the dependent variable when the independent variable is zero. \n",
    "         For example, in a model predicting house prices based on square footage, the slope represents the increase in price per square foot, \n",
    "         and the intercept represents the base price of a house with zero square footage."
   ]
  },
  {
   "cell_type": "markdown",
   "id": "07610a23-b9e8-4daf-b0f8-cf63c0354d29",
   "metadata": {},
   "source": [
    "## Q4. Explain the concept of gradient descent. How is it used in machine learning?"
   ]
  },
  {
   "cell_type": "markdown",
   "id": "9455fb1b-2912-4753-ae9c-b6efebf45a33",
   "metadata": {},
   "source": [
    "Gradient descent is a method used in machine learning to find the best values for the parameters of a model by iteratively adjusting them to minimize \n",
    "         the error between predicted and actual outcomes. It does this by calculating the gradient of the error function with respect to the parameters and \n",
    "         taking small steps in the direction of steepest descent until it reaches a minimum."
   ]
  },
  {
   "cell_type": "markdown",
   "id": "682de722-603e-492d-abe8-cee3dffc44ff",
   "metadata": {},
   "source": [
    "## Q5. Describe the multiple linear regression model. How does it differ from simple linear regression?"
   ]
  },
  {
   "cell_type": "markdown",
   "id": "0ace259f-2418-454a-96b6-cb58025d5488",
   "metadata": {},
   "source": [
    "Multiple linear regression is a statistical method that helps us understand the relationship between multiple independent variables and a dependent variable. \n",
    "         Unlike simple linear regression, which only uses one independent variable, multiple linear regression considers several independent variables that can impact \n",
    "         the dependent variable."
   ]
  },
  {
   "cell_type": "markdown",
   "id": "762f3e39-cd5c-462d-a7ae-9bd0c285c4cf",
   "metadata": {},
   "source": [
    "## Q6. Explain the concept of multicollinearity in multiple linear regression. How can you detect and address this issue?"
   ]
  },
  {
   "cell_type": "markdown",
   "id": "fe94b92b-d1f2-49d0-8784-d41db81f3fa9",
   "metadata": {},
   "source": [
    " Multicollinearity is a problem in multiple linear regression where the independent variables are highly correlated with each other. \n",
    "         This can cause issues in accurately estimating the effect of each independent variable on the dependent variable. \n",
    "         To detect and address multicollinearity, one can use correlation matrices and variance inflation factors (VIF) to identify highly correlated variables and \n",
    "         remove them or use regularization techniques to reduce their impact."
   ]
  },
  {
   "cell_type": "markdown",
   "id": "217fc493-8914-484a-974c-a67566960fe4",
   "metadata": {},
   "source": [
    "## Q7. Describe the polynomial regression model. How is it different from linear regression?"
   ]
  },
  {
   "cell_type": "markdown",
   "id": "173377b8-f39f-4e08-bc66-64781c0ad20b",
   "metadata": {},
   "source": [
    "Polynomial regression is a type of regression analysis where the relationship between the independent variable (X) and the dependent variable (Y) \n",
    "         is modeled as an nth degree polynomial. It differs from linear regression as it allows for a curved relationship between X "
   ]
  },
  {
   "cell_type": "markdown",
   "id": "8d13dcd1-7542-48a2-89b5-3978a31a2aab",
   "metadata": {},
   "source": [
    "## Q8. What are the advantages and disadvantages of polynomial regression compared to linear regression? In what situations would you prefer to use polynomial regression?\n"
   ]
  },
  {
   "cell_type": "markdown",
   "id": "79d0c169-4eae-41d6-b1ba-40583cd217ba",
   "metadata": {},
   "source": [
    "Advantages:\n",
    "            1. Polynomial regression can capture non-linear relationships between variables that linear regression cannot.\n",
    "            \n",
    "            2. Polynomial regression can provide a better fit to the data than linear regression.\n",
    "            \n",
    "Disadvantages:\n",
    "         \n",
    "            1. Polynomial regression can be more complex than linear regression, which can lead to overfitting if the model is not carefully  tuned. \n",
    "            2. Polynomial regression can be sensitive to outliers.\n",
    "         Situations where polynomial regression is preferred:\n",
    "            1. When there is a non-linear relationship between the dependent variable and independent variable(s).\n",
    "            2. When a higher degree of accuracy is required in the predictions.\n",
    "            3. When there is enough data to fit a complex model without overfitting."
   ]
  },
  {
   "cell_type": "code",
   "execution_count": null,
   "id": "28a63215-aa2c-41ad-8ba8-6a1d29b8e980",
   "metadata": {},
   "outputs": [],
   "source": []
  }
 ],
 "metadata": {
  "kernelspec": {
   "display_name": "Python 3 (ipykernel)",
   "language": "python",
   "name": "python3"
  },
  "language_info": {
   "codemirror_mode": {
    "name": "ipython",
    "version": 3
   },
   "file_extension": ".py",
   "mimetype": "text/x-python",
   "name": "python",
   "nbconvert_exporter": "python",
   "pygments_lexer": "ipython3",
   "version": "3.10.8"
  }
 },
 "nbformat": 4,
 "nbformat_minor": 5
}
